{
 "cells": [
  {
   "cell_type": "code",
   "execution_count": 147,
   "metadata": {},
   "outputs": [],
   "source": [
    "import pandas as pd\n",
    "import numpy as np\n",
    "import math\n",
    "import random\n",
    "from numpy.random import normal"
   ]
  },
  {
   "cell_type": "code",
   "execution_count": 148,
   "metadata": {},
   "outputs": [],
   "source": [
    "inCsv = pd.read_excel(\"../data/InputData.xlsx\")"
   ]
  },
  {
   "cell_type": "code",
   "execution_count": 149,
   "metadata": {},
   "outputs": [],
   "source": [
    "studentsPerCourse = inCsv['COURSE_IDENTIFICATION'].value_counts().to_dict()"
   ]
  },
  {
   "cell_type": "code",
   "execution_count": 150,
   "metadata": {},
   "outputs": [],
   "source": [
    "coursePool = [course for course, count in studentsPerCourse.items() for _ in range(count)]\n"
   ]
  },
  {
   "cell_type": "code",
   "execution_count": 151,
   "metadata": {},
   "outputs": [],
   "source": [
    "students = inCsv['PIDM'].unique()"
   ]
  },
  {
   "cell_type": "code",
   "execution_count": 152,
   "metadata": {},
   "outputs": [],
   "source": [
    "def normal_random(lower, upper):\n",
    "    mean = (upper + lower)/2\n",
    "    std_dev = (upper - lower) / 6\n",
    "    retNum = np.random.normal(mean, std_dev)\n",
    "    \n",
    "    return round(retNum)"
   ]
  },
  {
   "cell_type": "code",
   "execution_count": 153,
   "metadata": {},
   "outputs": [],
   "source": [
    "newRows = []\n",
    "\n",
    "for student in students:\n",
    "    numCourses = inCsv[inCsv['PIDM'] == student].iloc[0]['NO_CRS']\n",
    "    # numCourses = normal_random(1,6)\n",
    "    # if len(coursePool) < numCourses:\n",
    "    #     coursePool = [course for course, count in studentsPerCourse.items() for _ in range(count)]\n",
    "\n",
    "    chosenCourses = random.sample(coursePool, numCourses)\n",
    "\n",
    "    for course in chosenCourses:\n",
    "        coursePool.remove(course)\n",
    "\n",
    "    for course in chosenCourses:\n",
    "        newRow = {\n",
    "            'PIDM': student,\n",
    "            'ACADEMIC_PERIOD': inCsv[inCsv['PIDM'] == student].iloc[0]['ACADEMIC_PERIOD'],\n",
    "            'COURSE_IDENTIFICATION': course,\n",
    "            'SEC': \"A01\",\n",
    "            'NO_CRS': numCourses \n",
    "        }\n",
    "        newRows.append(newRow)\n",
    "\n",
    "outDf = pd.DataFrame(newRows, columns=inCsv.columns)"
   ]
  },
  {
   "cell_type": "code",
   "execution_count": 154,
   "metadata": {},
   "outputs": [
    {
     "data": {
      "text/html": [
       "<div>\n",
       "<style scoped>\n",
       "    .dataframe tbody tr th:only-of-type {\n",
       "        vertical-align: middle;\n",
       "    }\n",
       "\n",
       "    .dataframe tbody tr th {\n",
       "        vertical-align: top;\n",
       "    }\n",
       "\n",
       "    .dataframe thead th {\n",
       "        text-align: right;\n",
       "    }\n",
       "</style>\n",
       "<table border=\"1\" class=\"dataframe\">\n",
       "  <thead>\n",
       "    <tr style=\"text-align: right;\">\n",
       "      <th></th>\n",
       "      <th>PIDM</th>\n",
       "      <th>ACADEMIC_PERIOD</th>\n",
       "      <th>COURSE_IDENTIFICATION</th>\n",
       "      <th>SEC</th>\n",
       "      <th>NO_CRS</th>\n",
       "    </tr>\n",
       "  </thead>\n",
       "  <tbody>\n",
       "    <tr>\n",
       "      <th>0</th>\n",
       "      <td>15021</td>\n",
       "      <td>202290</td>\n",
       "      <td>CHEM1100</td>\n",
       "      <td>A01</td>\n",
       "      <td>2</td>\n",
       "    </tr>\n",
       "    <tr>\n",
       "      <th>1</th>\n",
       "      <td>15021</td>\n",
       "      <td>202290</td>\n",
       "      <td>COMP1012</td>\n",
       "      <td>A01</td>\n",
       "      <td>2</td>\n",
       "    </tr>\n",
       "    <tr>\n",
       "      <th>2</th>\n",
       "      <td>17515</td>\n",
       "      <td>202290</td>\n",
       "      <td>CHEM1120</td>\n",
       "      <td>A01</td>\n",
       "      <td>3</td>\n",
       "    </tr>\n",
       "    <tr>\n",
       "      <th>3</th>\n",
       "      <td>17515</td>\n",
       "      <td>202290</td>\n",
       "      <td>MATH1500</td>\n",
       "      <td>A01</td>\n",
       "      <td>3</td>\n",
       "    </tr>\n",
       "    <tr>\n",
       "      <th>4</th>\n",
       "      <td>17515</td>\n",
       "      <td>202290</td>\n",
       "      <td>STAT1000</td>\n",
       "      <td>A01</td>\n",
       "      <td>3</td>\n",
       "    </tr>\n",
       "    <tr>\n",
       "      <th>...</th>\n",
       "      <td>...</td>\n",
       "      <td>...</td>\n",
       "      <td>...</td>\n",
       "      <td>...</td>\n",
       "      <td>...</td>\n",
       "    </tr>\n",
       "    <tr>\n",
       "      <th>22317</th>\n",
       "      <td>819282</td>\n",
       "      <td>202290</td>\n",
       "      <td>CHEM1126</td>\n",
       "      <td>A01</td>\n",
       "      <td>2</td>\n",
       "    </tr>\n",
       "    <tr>\n",
       "      <th>22318</th>\n",
       "      <td>819282</td>\n",
       "      <td>202290</td>\n",
       "      <td>CHEM1120</td>\n",
       "      <td>A01</td>\n",
       "      <td>2</td>\n",
       "    </tr>\n",
       "    <tr>\n",
       "      <th>22319</th>\n",
       "      <td>819285</td>\n",
       "      <td>202290</td>\n",
       "      <td>CHEM1100</td>\n",
       "      <td>A01</td>\n",
       "      <td>1</td>\n",
       "    </tr>\n",
       "    <tr>\n",
       "      <th>22320</th>\n",
       "      <td>819730</td>\n",
       "      <td>202290</td>\n",
       "      <td>STAT2220</td>\n",
       "      <td>A01</td>\n",
       "      <td>1</td>\n",
       "    </tr>\n",
       "    <tr>\n",
       "      <th>22321</th>\n",
       "      <td>819762</td>\n",
       "      <td>202290</td>\n",
       "      <td>BIOL2260</td>\n",
       "      <td>A01</td>\n",
       "      <td>1</td>\n",
       "    </tr>\n",
       "  </tbody>\n",
       "</table>\n",
       "<p>22322 rows × 5 columns</p>\n",
       "</div>"
      ],
      "text/plain": [
       "         PIDM  ACADEMIC_PERIOD COURSE_IDENTIFICATION  SEC  NO_CRS\n",
       "0       15021           202290              CHEM1100  A01       2\n",
       "1       15021           202290              COMP1012  A01       2\n",
       "2       17515           202290              CHEM1120  A01       3\n",
       "3       17515           202290              MATH1500  A01       3\n",
       "4       17515           202290              STAT1000  A01       3\n",
       "...       ...              ...                   ...  ...     ...\n",
       "22317  819282           202290              CHEM1126  A01       2\n",
       "22318  819282           202290              CHEM1120  A01       2\n",
       "22319  819285           202290              CHEM1100  A01       1\n",
       "22320  819730           202290              STAT2220  A01       1\n",
       "22321  819762           202290              BIOL2260  A01       1\n",
       "\n",
       "[22322 rows x 5 columns]"
      ]
     },
     "execution_count": 154,
     "metadata": {},
     "output_type": "execute_result"
    }
   ],
   "source": [
    "outDf"
   ]
  },
  {
   "cell_type": "code",
   "execution_count": 155,
   "metadata": {},
   "outputs": [],
   "source": [
    "outDf.to_csv('../data/newSampleInput.csv', index=False)"
   ]
  }
 ],
 "metadata": {
  "kernelspec": {
   "display_name": "Python 3",
   "language": "python",
   "name": "python3"
  },
  "language_info": {
   "codemirror_mode": {
    "name": "ipython",
    "version": 3
   },
   "file_extension": ".py",
   "mimetype": "text/x-python",
   "name": "python",
   "nbconvert_exporter": "python",
   "pygments_lexer": "ipython3",
   "version": "3.12.2"
  }
 },
 "nbformat": 4,
 "nbformat_minor": 2
}
