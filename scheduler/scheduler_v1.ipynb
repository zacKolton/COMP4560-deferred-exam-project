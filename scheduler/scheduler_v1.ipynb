{
 "cells": [
  {
   "cell_type": "code",
   "execution_count": null,
   "metadata": {},
   "outputs": [],
   "source": [
    "import pandas as pd\n",
    "import numpy as np"
   ]
  },
  {
   "cell_type": "code",
   "execution_count": null,
   "metadata": {},
   "outputs": [],
   "source": [
    "inCsv = pd.read_excel(\"../data/InputData.xlsx\")\n",
    "inCsv.head()"
   ]
  },
  {
   "cell_type": "code",
   "execution_count": null,
   "metadata": {},
   "outputs": [],
   "source": [
    "inRooms = {\n",
    "    \"Armes 200\": 100,\n",
    "    \"Armes 111\": 35,\n",
    "    \"Armes 204\": 85,\n",
    "    \"Armes 201\": 52,\n",
    "    \"Armes 205\": 52,\n",
    "    \"Armes 208\": 85,\n",
    "}\n",
    "\n",
    "deferralRate = 0.08\n",
    "\n",
    "examTimePeriod = 5\n",
    "examsPerDay = 3"
   ]
  },
  {
   "cell_type": "code",
   "execution_count": null,
   "metadata": {},
   "outputs": [],
   "source": [
    "\n",
    "def create_JSON_course_data(df, studentHeader, courseHeader):\n",
    "    retData = {}\n",
    "\n",
    "    for course in df[courseHeader].unique():\n",
    "        studentsInCourse = df[df[courseHeader] == course][studentHeader].unique()\n",
    "        \n",
    "        retData[course] = {\n",
    "            \"students\": len(studentsInCourse),\n",
    "            \"conflicts\": [],\n",
    "        }\n",
    "\n",
    "        for student in studentsInCourse: \n",
    "            conflicts = df[(df[studentHeader] == student) & (df[courseHeader] != course)][courseHeader].unique()\n",
    "            retData[course]['conflicts'].extend(conflicts)\n",
    "        \n",
    "        retData[course]['numConflicts'] = len(retData[course]['conflicts'])\n",
    "\n",
    "\n",
    "    return retData"
   ]
  },
  {
   "cell_type": "code",
   "execution_count": null,
   "metadata": {},
   "outputs": [],
   "source": [
    "# courses = pd.DataFrame(columns=['name', 'students', 'numStudents','conflicts', 'numConflicts'])\n",
    "coursesJSON = create_JSON_course_data(inCsv, \"PIDM\", \"COURSE_IDENTIFICATION\")"
   ]
  },
  {
   "cell_type": "code",
   "execution_count": null,
   "metadata": {},
   "outputs": [],
   "source": [
    "sortedCourses = dict(sorted(coursesJSON.items(), key=lambda item: item[1]['students'], reverse=True))\n",
    "sortedCourses"
   ]
  },
  {
   "cell_type": "code",
   "execution_count": null,
   "metadata": {},
   "outputs": [],
   "source": [
    "rooms = {key: value for key, value in sorted(inRooms.items(), key=lambda item: item[1], reverse=True)}\n",
    "rooms"
   ]
  },
  {
   "cell_type": "code",
   "execution_count": null,
   "metadata": {},
   "outputs": [],
   "source": []
  },
  {
   "cell_type": "code",
   "execution_count": null,
   "metadata": {},
   "outputs": [],
   "source": [
    "scheduleSoFar = {\n",
    "    \n",
    "}"
   ]
  },
  {
   "cell_type": "code",
   "execution_count": null,
   "metadata": {},
   "outputs": [],
   "source": [
    "def find_schedule(courseDict, roomDict, scheduleSoFar){\n",
    "\n",
    "}"
   ]
  }
 ],
 "metadata": {
  "kernelspec": {
   "display_name": "Python 3",
   "language": "python",
   "name": "python3"
  },
  "language_info": {
   "codemirror_mode": {
    "name": "ipython",
    "version": 3
   },
   "file_extension": ".py",
   "mimetype": "text/x-python",
   "name": "python",
   "nbconvert_exporter": "python",
   "pygments_lexer": "ipython3",
   "version": "3.12.2"
  }
 },
 "nbformat": 4,
 "nbformat_minor": 2
}
