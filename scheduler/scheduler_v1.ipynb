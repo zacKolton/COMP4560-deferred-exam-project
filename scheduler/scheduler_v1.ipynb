{
 "cells": [
  {
   "cell_type": "code",
   "execution_count": null,
   "metadata": {},
   "outputs": [],
   "source": [
    "import pandas as pd\n",
    "import numpy as np\n",
    "import math"
   ]
  },
  {
   "cell_type": "markdown",
   "metadata": {},
   "source": [
    "# Inputs"
   ]
  },
  {
   "cell_type": "code",
   "execution_count": null,
   "metadata": {},
   "outputs": [],
   "source": [
    "inCsv = pd.read_excel(\"../data/InputData.xlsx\")\n",
    "\n",
    "inRooms = {\n",
    "    \"Armes 200\": 100,\n",
    "    \"Armes 111\": 35,\n",
    "    \"Armes 204\": 85,\n",
    "    \"Armes 201\": 52,\n",
    "    \"Armes 205\": 52,\n",
    "    \"Armes 208\": 85,\n",
    "}\n",
    "\n",
    "deferralRate = 0.1\n",
    "\n",
    "examsPerDay = 3\n",
    "slotNames = {\n",
    "    0: \"Morning\",\n",
    "    1: \"Afternoon\",\n",
    "    2: \"Evening\",\n",
    "    3: \"Night\"\n",
    "}"
   ]
  },
  {
   "cell_type": "markdown",
   "metadata": {},
   "source": [
    "# Helper Functions"
   ]
  },
  {
   "cell_type": "code",
   "execution_count": null,
   "metadata": {},
   "outputs": [],
   "source": [
    "def index_to_timeslot(slotIndex,examsPerDay, slotNames):\n",
    "    day = math.floor(slotIndex/examsPerDay)\n",
    "    timePeriod = slotIndex%examsPerDay\n",
    "    periodName = slotNames[timePeriod]\n",
    "    timeSlot = f\"Day: {day}, {periodName}\"\n",
    "    return timeSlot"
   ]
  },
  {
   "cell_type": "code",
   "execution_count": null,
   "metadata": {},
   "outputs": [],
   "source": [
    "\n",
    "def create_JSON_course_data(df, studentHeader, courseHeader):\n",
    "    retData = {}\n",
    "\n",
    "    for course in df[courseHeader].unique():\n",
    "        studentsInCourse = df[df[courseHeader] == course][studentHeader].unique()\n",
    "        \n",
    "        retData[course] = {\n",
    "            \"students\": len(studentsInCourse),\n",
    "            \"conflicts\": [],\n",
    "        }\n",
    "\n",
    "        for student in studentsInCourse: \n",
    "            conflicts = df[(df[studentHeader] == student) & (df[courseHeader] != course)][courseHeader].unique()\n",
    "            retData[course]['conflicts'].extend(conflicts)\n",
    "        \n",
    "        retData[course]['numConflicts'] = len(retData[course]['conflicts'])\n",
    "\n",
    "\n",
    "    return retData"
   ]
  },
  {
   "cell_type": "code",
   "execution_count": null,
   "metadata": {},
   "outputs": [],
   "source": [
    "def dict_to_df_no_rooms(scheduleDict, courseDict, deferralRate):\n",
    "    listCourses = [(key, value['courses']) for key,value in scheduleDict.items()]\n",
    "    retDf = pd.DataFrame(listCourses, columns=[\"Time Slot\", \"Courses\"])\n",
    "    retDf = retDf.explode(\"Courses\").reset_index(drop=True)\n",
    "    \n",
    "    def addExpectedDeferrals(courseName, courseDict, deferralRate):\n",
    "        return math.ceil(courseDict[courseName]['students']*deferralRate)\n",
    "    \n",
    "    retDf['Expected Deferrals'] = retDf['Courses'].apply(addExpectedDeferrals, args=(courseDict, deferralRate))\n",
    "    return retDf"
   ]
  },
  {
   "cell_type": "markdown",
   "metadata": {},
   "source": [
    "# Global Variables"
   ]
  },
  {
   "cell_type": "code",
   "execution_count": null,
   "metadata": {},
   "outputs": [],
   "source": [
    "coursesJSON = create_JSON_course_data(inCsv, \"PIDM\", \"COURSE_IDENTIFICATION\")"
   ]
  },
  {
   "cell_type": "code",
   "execution_count": null,
   "metadata": {},
   "outputs": [],
   "source": [
    "sortedCourses = dict(sorted(coursesJSON.items(), key=lambda item: item[1]['students'], reverse=True))"
   ]
  },
  {
   "cell_type": "code",
   "execution_count": null,
   "metadata": {},
   "outputs": [],
   "source": [
    "rooms = {key: value for key, value in sorted(inRooms.items(), key=lambda item: item[1], reverse=True)}\n",
    "rooms"
   ]
  },
  {
   "cell_type": "markdown",
   "metadata": {},
   "source": [
    "# Algorithms To Test\n",
    "\n",
    "- [Done]        Algo 1 - Graph Coloring\n",
    "- Algo 2 - ??\n",
    "- Algo 3 - Recursive (Check every possible combination) ??\n",
    "\n",
    "Then Perform Analysis - Which one is more optimal: \n",
    "- least conflicts\n",
    "- uses number of rooms correctly\n",
    "- shortest schedule\n",
    "- Quickest to run"
   ]
  },
  {
   "cell_type": "markdown",
   "metadata": {},
   "source": [
    "# Graph Coloring Scheduler"
   ]
  },
  {
   "cell_type": "markdown",
   "metadata": {},
   "source": [
    "### Helper Functions"
   ]
  },
  {
   "cell_type": "code",
   "execution_count": null,
   "metadata": {},
   "outputs": [],
   "source": [
    "def json_to_adj_list(courseDict, nameIndex):\n",
    "    vertices = list(courseDict.keys())\n",
    "    adjList = [[] for _ in vertices]\n",
    "\n",
    "    for key, value in courseDict.items():\n",
    "        vertex = nameIndex[key]\n",
    "        for conflict in value['conflicts']:\n",
    "            adjList[vertex].append(nameIndex[conflict])\n",
    "\n",
    "    return adjList"
   ]
  },
  {
   "cell_type": "code",
   "execution_count": null,
   "metadata": {},
   "outputs": [],
   "source": [
    "def greedy_colouring(adjList):\n",
    "    numVertices = len(adjList)\n",
    "    result = [-1]*numVertices\n",
    "\n",
    "    result[0] = 0\n",
    "\n",
    "    available = [False]*numVertices\n",
    "\n",
    "    for vertex in range(1, numVertices):\n",
    "        \n",
    "        for i in adjList[vertex]:\n",
    "            if(result[i] != -1):\n",
    "                available[result[i]] = True\n",
    "\n",
    "        timeSlot = 0\n",
    "        while timeSlot < numVertices:\n",
    "            if available[timeSlot] == False:\n",
    "                break\n",
    "\n",
    "            timeSlot += 1\n",
    "\n",
    "        result[vertex] = timeSlot\n",
    "\n",
    "        for i in adjList[vertex]:\n",
    "            if result[i] != -1:\n",
    "                available[result[i]] = False\n",
    "\n",
    "    return result"
   ]
  },
  {
   "cell_type": "code",
   "execution_count": null,
   "metadata": {},
   "outputs": [],
   "source": [
    "def color_to_schedule(graphColor, indexName, courseDict, deferralRate):\n",
    "    numVertices = len(graphColor)\n",
    "    retDict = {}\n",
    "    for vertex in range(numVertices):\n",
    "        timeSlot = index_to_timeslot(graphColor[vertex], examsPerDay, slotNames)\n",
    "        courseName = indexName[vertex]\n",
    "        if timeSlot in retDict:\n",
    "            retDict[timeSlot]['courses'].append(courseName)\n",
    "            retDict[timeSlot]['numStudents'] += math.ceil(courseDict[courseName]['students']*deferralRate)\n",
    "        else:\n",
    "            retDict[timeSlot] = {\n",
    "                'courses': [courseName],\n",
    "                'numStudents': math.ceil(courseDict[courseName]['students']*deferralRate)\n",
    "            }\n",
    "    return retDict"
   ]
  },
  {
   "cell_type": "markdown",
   "metadata": {},
   "source": [
    "### Main Function"
   ]
  },
  {
   "cell_type": "code",
   "execution_count": null,
   "metadata": {},
   "outputs": [],
   "source": [
    "def graph_coloring_schedule(courseDict, deferralRate):\n",
    "    nameIndex = {name: i for i, name in enumerate(courseDict.keys())}\n",
    "    indexName = {index: name for name, index in nameIndex.items()}\n",
    "\n",
    "    courseAdjList = json_to_adj_list(courseDict, nameIndex)\n",
    "    \n",
    "    graphColor = greedy_colouring(courseAdjList)\n",
    "\n",
    "    schedule = color_to_schedule(graphColor, indexName, courseDict, deferralRate)\n",
    "    \n",
    "    return schedule"
   ]
  },
  {
   "cell_type": "markdown",
   "metadata": {},
   "source": [
    "### Running & Exporting Data"
   ]
  },
  {
   "cell_type": "code",
   "execution_count": null,
   "metadata": {},
   "outputs": [],
   "source": [
    "gcSchedule = graph_coloring_schedule(sortedCourses, deferralRate)\n",
    "gcDict = dict_to_df_no_rooms(gcSchedule, coursesJSON, deferralRate)\n",
    "gcDict.to_excel('../data/Outputs/Graph Coloring.xlsx', index=False, sheet_name='Schedule')\n",
    "# [numStudents['numStudents'] for numStudents in gcSchedule.values()]"
   ]
  },
  {
   "cell_type": "markdown",
   "metadata": {},
   "source": [
    "### Notes\n",
    "\n",
    "Graph Coloring algorithm solves the conflict problem and gives a schedule with no conflicts. \n",
    "- Is it conflict free? Yes\n",
    "- Is it the most optimal one? Probably not\n",
    "- Does it work? Yes\n",
    "- Is it quick? From start to finish the code runs under 1 min\n"
   ]
  },
  {
   "cell_type": "markdown",
   "metadata": {},
   "source": [
    "# Greedy Knapsack Scheduler"
   ]
  }
 ],
 "metadata": {
  "kernelspec": {
   "display_name": "Python 3",
   "language": "python",
   "name": "python3"
  },
  "language_info": {
   "codemirror_mode": {
    "name": "ipython",
    "version": 3
   },
   "file_extension": ".py",
   "mimetype": "text/x-python",
   "name": "python",
   "nbconvert_exporter": "python",
   "pygments_lexer": "ipython3",
   "version": "3.12.2"
  }
 },
 "nbformat": 4,
 "nbformat_minor": 2
}
