{
 "cells": [
  {
   "cell_type": "code",
   "execution_count": null,
   "metadata": {},
   "outputs": [],
   "source": [
    "import pandas as pd\n",
    "import numpy as np"
   ]
  },
  {
   "cell_type": "code",
   "execution_count": null,
   "metadata": {},
   "outputs": [],
   "source": [
    "inCsv = pd.read_excel(\"../data/InputData.xlsx\")\n",
    "inCsv.head()"
   ]
  },
  {
   "cell_type": "code",
   "execution_count": null,
   "metadata": {},
   "outputs": [],
   "source": [
    "def create_JSON_course_data(df, studentHeader, courseHeader):\n",
    "    retData = {}\n",
    "\n",
    "    for course in df[courseHeader].unique():\n",
    "        studentsInCourse = df[df[courseHeader] == course][studentHeader].unique()\n",
    "        \n",
    "        retData[course] = {\n",
    "            \"students\": len(studentsInCourse),\n",
    "            \"conflicts\": [],\n",
    "        }\n",
    "\n",
    "        for student in studentsInCourse: \n",
    "            conflicts = df[(df[studentHeader] == student) & (df[courseHeader] != course)][courseHeader].unique()\n",
    "            retData[course]['conflicts'].extend(conflicts)\n",
    "        \n",
    "        retData[course]['numConflicts'] = len(retData[course]['conflicts'])\n",
    "\n",
    "\n",
    "    return retData"
   ]
  },
  {
   "cell_type": "code",
   "execution_count": null,
   "metadata": {},
   "outputs": [],
   "source": [
    "# courses = pd.DataFrame(columns=['name', 'students', 'numStudents','conflicts', 'numConflicts'])\n",
    "coursesJSON = create_JSON_course_data(inCsv, \"PIDM\", \"COURSE_IDENTIFICATION\")"
   ]
  },
  {
   "cell_type": "code",
   "execution_count": null,
   "metadata": {},
   "outputs": [],
   "source": []
  }
 ],
 "metadata": {
  "kernelspec": {
   "display_name": "Python 3",
   "language": "python",
   "name": "python3"
  },
  "language_info": {
   "codemirror_mode": {
    "name": "ipython",
    "version": 3
   },
   "file_extension": ".py",
   "mimetype": "text/x-python",
   "name": "python",
   "nbconvert_exporter": "python",
   "pygments_lexer": "ipython3",
   "version": "3.12.2"
  }
 },
 "nbformat": 4,
 "nbformat_minor": 2
}
